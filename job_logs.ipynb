{
 "cells": [
  {
   "cell_type": "code",
   "execution_count": null,
   "id": "a201389f-7eef-40bb-8b9b-abe823da0063",
   "metadata": {},
   "outputs": [],
   "source": []
  },
  {
   "cell_type": "code",
   "execution_count": 1,
   "id": "06ba264f-abae-4973-afdf-a73629e9e18f",
   "metadata": {},
   "outputs": [
    {
     "name": "stdout",
     "output_type": "stream",
     "text": [
      "fish-detector-278d3bac-0dcb-42fb-8499-7f533cb52712\n"
     ]
    }
   ],
   "source": [
    "import json\n",
    "from oscar_python.client import Client\n",
    "import re\n",
    "from datetime import datetime\n",
    "\n",
    "# Datos de entrada (logs)\n",
    "        \n",
    "options_oidc = {'cluster_id':'oscar--id',\n",
    "                'endpoint':'https://inference-walton.cloud.imagine-ai.eu',\n",
    "               'oidc_token':\"eyJhbGciOiJSUzI1NiIsInR5cCIgOiAiSldUIiwia2lkIiA6ICJQVVlPaXJBM1ktZF9kR3BkajRpSkRIdzR6SGE4SVktYmhaZGFFajByamJVIn0.eyJleHAiOjE3MjkyNjk3NTksImlhdCI6MTcyOTIzODQwMiwiYXV0aF90aW1lIjoxNzI5MjMzNzU5LCJqdGkiOiI4Y2Y5MDM0OS01NWYyLTRmNjAtODkxNS03NDYyN2IyNWZhNGUiLCJpc3MiOiJodHRwczovL2FhaS5lZ2kuZXUvYXV0aC9yZWFsbXMvZWdpIiwic3ViIjoiNjM3MTBkNWNlOGY1Y2Q0NGI5MWY1MTUyZTgwYWIzZjFhMTQ0YzA3NjBiMTc3M2FmMmRmYTYxNjBhZDhhMzY4Y0BlZ2kuZXUiLCJ0eXAiOiJCZWFyZXIiLCJhenAiOiI0M2RmZTdiMi1lMDYzLTRmZTktODQyZS03YjQwYWQ3MzZkZWIiLCJzZXNzaW9uX3N0YXRlIjoiNjdmYzJiODAtMjAzMi00ZmM5LTljZjgtZTVmOTEyYWNjOTc1Iiwic2NvcGUiOiJvcGVuaWQgZWR1cGVyc29uX2VudGl0bGVtZW50IHByb2ZpbGUgZW1haWwiLCJzaWQiOiI2N2ZjMmI4MC0yMDMyLTRmYzktOWNmOC1lNWY5MTJhY2M5NzUiLCJhdXRoZW50aWNhdGluZ19hdXRob3JpdHkiOiJodHRwczovL3d3dy5yZWRpcmlzLmVzL3Npci91cHZpZHAifQ.J3D5sSSDAr_Ef6-cO9xITG0ifU9h9pb0uL8_Ewnqlrl8WfiJQHWR8X9Z60k56qNR9KtNjI1fOY4db_hcBDjRKSkAD3u3j5FC6MhYqcJgNMFKT7tAy_yJUWHnCWW_LcsdRMPNdru_0V6TTcxeuklfDd0UCa-glFObJgxjS9nbWEuDDqKFWx5suEIaefIaPW8OCzPMB3Fmi-UzeF0kX72ajHcAKuvISbj8HyKPpSUuPMNeAI8Rguqt-broKuIQ_eImZsQHOP-EmFHtNkBeTHdNlluMB5ngP3ILuJJlvWo7rBsoB_CXOmBNFv-9zLlzT0_5um-8Zf3F57SBPMSESeSiJQ\",\n",
    "                'ssl':'False'}\n",
    "\"\"\"\n",
    "options_basic_auth = {'cluster_id':'cluster-id',\n",
    "                'endpoint':'inference-walton.cloud.imagine-ai.eu',\n",
    "                'user':'oscar',\n",
    "                'password':'oscar123',\n",
    "                'ssl':'False'}\n",
    "                \"\"\"\n",
    "service_name='fish-detector'\n",
    "jobs='fish-detector-97e3941f-b25d-4c7f-b23b-f73dfca97062'\n",
    "client=Client(options=options_oidc)\n",
    "info = client.list_jobs(service_name)\n",
    "job_statuses=json.loads(info.text)\n",
    "id=list(job_statuses)\n",
    "print(id[0])\n",
    "log_data=[0]*len(id)\n",
    "for i,name in enumerate(id):\n",
    "    info = client.get_job_logs(service_name,name)\n",
    "    log_data[i]=info.text\n",
    "with open('job_logs_17_10_5000.txt', 'w') as f:\n",
    "    f.write(str(log_data))  # Escribe el diccionario en formato JSON\n",
    "\n",
    "\n"
   ]
  },
  {
   "cell_type": "code",
   "execution_count": null,
   "id": "e261164e-9f0a-42c2-8783-6b169b469d55",
   "metadata": {},
   "outputs": [],
   "source": []
  }
 ],
 "metadata": {
  "kernelspec": {
   "display_name": "Python 3 (ipykernel)",
   "language": "python",
   "name": "python3"
  },
  "language_info": {
   "codemirror_mode": {
    "name": "ipython",
    "version": 3
   },
   "file_extension": ".py",
   "mimetype": "text/x-python",
   "name": "python",
   "nbconvert_exporter": "python",
   "pygments_lexer": "ipython3",
   "version": "3.10.12"
  }
 },
 "nbformat": 4,
 "nbformat_minor": 5
}
